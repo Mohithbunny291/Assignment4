{
 "cells": [
  {
   "cell_type": "code",
   "execution_count": 3,
   "metadata": {},
   "outputs": [
    {
     "name": "stdout",
     "output_type": "stream",
     "text": [
      "Enter a number98\n",
      "Not a palindrome\n"
     ]
    }
   ],
   "source": [
    "# !/palindrome or not/\n",
    "\n",
    "\n",
    "def palindrome():\n",
    "    \n",
    "    try:\n",
    "        \n",
    "        num=int(input(\"Enter a number\"))\n",
    "        \n",
    "    except Exception as ValueError:\n",
    "        \n",
    "        print(\"Invalid input enter a integer\")\n",
    "        \n",
    "    else:\n",
    "        \n",
    "        temp=num\n",
    "        \n",
    "        rev=0\n",
    "        \n",
    "        while(num>0):\n",
    "            \n",
    "            dig=num%10\n",
    "            \n",
    "            rev=rev*10+dig\n",
    "            \n",
    "            num=num//10\n",
    "            \n",
    "        if(temp==rev):\n",
    "            \n",
    "            print(\"The number is palindrome\")\n",
    "            \n",
    "        else:\n",
    "            \n",
    "            print(\"Not a palindrome\")\n",
    "        \n",
    "palindrome()\n"
   ]
  },
  {
   "cell_type": "code",
   "execution_count": null,
   "metadata": {},
   "outputs": [],
   "source": []
  }
 ],
 "metadata": {
  "kernelspec": {
   "display_name": "Python 3",
   "language": "python",
   "name": "python3"
  },
  "language_info": {
   "codemirror_mode": {
    "name": "ipython",
    "version": 3
   },
   "file_extension": ".py",
   "mimetype": "text/x-python",
   "name": "python",
   "nbconvert_exporter": "python",
   "pygments_lexer": "ipython3",
   "version": "3.8.2"
  }
 },
 "nbformat": 4,
 "nbformat_minor": 4
}
