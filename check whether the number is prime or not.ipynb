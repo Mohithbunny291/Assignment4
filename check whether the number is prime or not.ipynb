{
 "cells": [
  {
   "cell_type": "code",
   "execution_count": null,
   "metadata": {},
   "outputs": [],
   "source": [
    "# !/check whether the number is prime or not/\n",
    "\n",
    "\n",
    "def prime():\n",
    "    \n",
    "    num=int(input(\"Enter any number:\"))\n",
    "    \n",
    "    if num>1:\n",
    "        \n",
    "        for i in range(2,num):\n",
    "            \n",
    "            if (num%i==0):\n",
    "                \n",
    "                print(num ,\"is not a prime number\")\n",
    "                \n",
    "                break\n",
    "                \n",
    "        else:\n",
    "            \n",
    "                print(num ,\"is a prime number\")\n",
    "                \n",
    "    else:\n",
    "        \n",
    "        print(num ,\"is not a prime number\")\n",
    "        \n",
    "prime()\n"
   ]
  }
 ],
 "metadata": {
  "kernelspec": {
   "display_name": "Python 3",
   "language": "python",
   "name": "python3"
  },
  "language_info": {
   "codemirror_mode": {
    "name": "ipython",
    "version": 3
   },
   "file_extension": ".py",
   "mimetype": "text/x-python",
   "name": "python",
   "nbconvert_exporter": "python",
   "pygments_lexer": "ipython3",
   "version": "3.8.2"
  }
 },
 "nbformat": 4,
 "nbformat_minor": 4
}
