{
 "cells": [
  {
   "cell_type": "code",
   "execution_count": 4,
   "metadata": {},
   "outputs": [
    {
     "name": "stdout",
     "output_type": "stream",
     "text": [
      "Enter num1:65\n",
      "Enter num2:7543\n",
      "Enter num3:5\n",
      "Maximum number is: 7543\n"
     ]
    }
   ],
   "source": [
    "# !/Python function to find the Max of three numbers/\n",
    "\n",
    "\n",
    "def max():\n",
    "    \n",
    "    a=int(input(\"Enter num1:\"))\n",
    "    \n",
    "    b=int(input(\"Enter num2:\"))\n",
    "    \n",
    "    c=int(input(\"Enter num3:\"))\n",
    "    \n",
    "    if a==b==c:\n",
    "        \n",
    "        print(\"All are equal.No maximum number\")\n",
    "        \n",
    "    elif (a>b and a>c):\n",
    "        \n",
    "        print(\"Maximum number is:\",a)\n",
    "        \n",
    "    elif (b>c and b>a):\n",
    "        \n",
    "        print(\"Maximum number is:\",b)\n",
    "        \n",
    "    else:\n",
    "        \n",
    "        print(\"Maximum number is:\",c)\n",
    "        \n",
    "max()\n"
   ]
  },
  {
   "cell_type": "code",
   "execution_count": null,
   "metadata": {},
   "outputs": [],
   "source": []
  }
 ],
 "metadata": {
  "kernelspec": {
   "display_name": "Python 3",
   "language": "python",
   "name": "python3"
  },
  "language_info": {
   "codemirror_mode": {
    "name": "ipython",
    "version": 3
   },
   "file_extension": ".py",
   "mimetype": "text/x-python",
   "name": "python",
   "nbconvert_exporter": "python",
   "pygments_lexer": "ipython3",
   "version": "3.8.2"
  }
 },
 "nbformat": 4,
 "nbformat_minor": 4
}
